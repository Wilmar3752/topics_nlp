{
 "cells": [
  {
   "cell_type": "code",
   "execution_count": 6,
   "metadata": {},
   "outputs": [],
   "source": [
    "%load_ext autoreload\n",
    "%autoreload 2\n",
    "from cgi import print_environ\n",
    "from textwrap import indent\n",
    "from read_files import *\n",
    "from utils import utils\n",
    "from wordcloud import WordCloud\n",
    "import matplotlib.pyplot as plt\n",
    "import gensim\n",
    "import numpy as np\n",
    "import warnings\n",
    "import pyLDAvis\n",
    "import pyLDAvis.gensim_models"
   ]
  },
  {
   "cell_type": "code",
   "execution_count": 7,
   "metadata": {},
   "outputs": [],
   "source": [
    "company = 'CIAT'"
   ]
  },
  {
   "cell_type": "code",
   "execution_count": 3,
   "metadata": {},
   "outputs": [
    {
     "name": "stdout",
     "output_type": "stream",
     "text": [
      "Leyendo documentos en: ingles\n",
      "================================\n",
      "procesando Investigacion 33.txt\n",
      "procesando Investigacion 27.txt\n",
      "procesando Investigacion 26.txt\n",
      "procesando Investigacion 32.txt\n",
      "procesando investigacion 18.txt\n",
      "procesando investigacion 24.txt\n",
      "procesando Investigacion 30.txt\n",
      "procesando Investigacion 31.txt\n",
      "procesando Investigacion 25.txt\n",
      "procesando investigacion 19.txt\n",
      "procesando Investigacion 21.txt\n",
      "procesando Investigacion 35.txt\n",
      "procesando Investigacion 34.txt\n",
      "procesando investigacion 20.txt\n",
      "procesando Investigacion 36.txt\n",
      "procesando Investigacion 22.txt\n",
      "procesando Investigacion 23.txt\n",
      "procesando Investigacion 37.txt\n",
      "procesando Investigacion 50.txt\n",
      "procesando Investigacion 44.txt\n",
      "procesando Investigacion 45.txt\n",
      "procesando Investigacion 51.txt\n",
      "procesando Investigacion 47.txt\n",
      "procesando Investigacion 53.txt\n",
      "procesando Investigacion 9.txt\n",
      "procesando Investigacion 8.txt\n",
      "procesando Investigacion 52.txt\n",
      "procesando Investigacion 46.txt\n",
      "procesando Investigacion 42.txt\n",
      "procesando Investigacion 56.txt\n",
      "procesando Investigacion 57.txt\n",
      "procesando Investigacion 43.txt\n",
      "procesando Investigacion 55.txt\n",
      "procesando Investigacion 41.txt\n",
      "procesando organizacional  12.txt\n",
      "procesando Investigacion 40.txt\n",
      "procesando Investigacion 54.txt\n",
      "procesando Investigacion 59.txt\n",
      "procesando Investigacion 3.txt\n",
      "procesando Investigacion 2.txt\n",
      "procesando Investigacion 58.txt\n",
      "procesando Investigacion 1.txt\n",
      "procesando Investigacion 5.txt\n",
      "procesando Investigacion 4.txt\n",
      "procesando Investigacion 60.txt\n",
      "procesando Investigacion 48.txt\n",
      "procesando Investigacion 6.txt\n",
      "procesando Investigacion 7.txt\n",
      "procesando Investigacion 49.txt\n",
      "procesando Investigacion 61.txt\n",
      "procesando investigacion 13.txt\n",
      "procesando Investigacion 39.txt\n",
      "procesando investigacion 11.txt\n",
      "procesando Investigacion 10.txt\n",
      "procesando Investigacion 38.txt\n",
      "procesando Investigacion 14.txt\n",
      "procesando investigacion 28.txt\n",
      "procesando Investigacion 29.txt\n",
      "procesando Investigacion 15.txt\n",
      "procesando Investigacion 17.txt\n",
      "procesando Investigacion 16.txt\n",
      "Leyendo documentos en: español\n",
      "================================\n",
      "procesando 2021-10-20 Política CTI 2022 - 2031_VDiscusión pública.pdf\n"
     ]
    }
   ],
   "source": [
    "data = get_data(\"./in/\" + company +\"/\")\n",
    "new_stop = pd.read_csv('./in/stop_words.csv')\n",
    "stop_words = stopwords.words('english')\n",
    "stop_words.extend(new_stop['palabra'])"
   ]
  },
  {
   "cell_type": "code",
   "execution_count": 8,
   "metadata": {},
   "outputs": [
    {
     "data": {
      "text/html": [
       "<div>\n",
       "<style scoped>\n",
       "    .dataframe tbody tr th:only-of-type {\n",
       "        vertical-align: middle;\n",
       "    }\n",
       "\n",
       "    .dataframe tbody tr th {\n",
       "        vertical-align: top;\n",
       "    }\n",
       "\n",
       "    .dataframe thead th {\n",
       "        text-align: right;\n",
       "    }\n",
       "</style>\n",
       "<table border=\"1\" class=\"dataframe\">\n",
       "  <thead>\n",
       "    <tr style=\"text-align: right;\">\n",
       "      <th></th>\n",
       "      <th>document</th>\n",
       "      <th>idioma</th>\n",
       "      <th>file</th>\n",
       "      <th>clean_text</th>\n",
       "    </tr>\n",
       "  </thead>\n",
       "  <tbody>\n",
       "    <tr>\n",
       "      <th>0</th>\n",
       "      <td>Scientific Fields of Interest: Environment; PG...</td>\n",
       "      <td>ingles</td>\n",
       "      <td>Investigacion 33.txt</td>\n",
       "      <td>[scientific, field, interest, environment, pgr...</td>\n",
       "    </tr>\n",
       "    <tr>\n",
       "      <th>1</th>\n",
       "      <td>Agriculture; Biology; Environment; Marine.\\nMa...</td>\n",
       "      <td>ingles</td>\n",
       "      <td>Investigacion 27.txt</td>\n",
       "      <td>[agriculture, biology, environment, marine, li...</td>\n",
       "    </tr>\n",
       "    <tr>\n",
       "      <th>2</th>\n",
       "      <td>: Centrifuges, spectrophotometers, chromatogra...</td>\n",
       "      <td>ingles</td>\n",
       "      <td>Investigacion 26.txt</td>\n",
       "      <td>[centrifuge, spectrophotometer, chromatography...</td>\n",
       "    </tr>\n",
       "    <tr>\n",
       "      <th>3</th>\n",
       "      <td>Scientific Fields of Interest: Agriculture; Bi...</td>\n",
       "      <td>ingles</td>\n",
       "      <td>Investigacion 32.txt</td>\n",
       "      <td>[scientific, field, interest, agriculture, bio...</td>\n",
       "    </tr>\n",
       "    <tr>\n",
       "      <th>4</th>\n",
       "      <td>Several adoption models have been developed to...</td>\n",
       "      <td>ingles</td>\n",
       "      <td>investigacion 18.txt</td>\n",
       "      <td>[several, adoption, model, developed, explain,...</td>\n",
       "    </tr>\n",
       "  </tbody>\n",
       "</table>\n",
       "</div>"
      ],
      "text/plain": [
       "                                            document  idioma  \\\n",
       "0  Scientific Fields of Interest: Environment; PG...  ingles   \n",
       "1  Agriculture; Biology; Environment; Marine.\\nMa...  ingles   \n",
       "2  : Centrifuges, spectrophotometers, chromatogra...  ingles   \n",
       "3  Scientific Fields of Interest: Agriculture; Bi...  ingles   \n",
       "4  Several adoption models have been developed to...  ingles   \n",
       "\n",
       "                   file                                         clean_text  \n",
       "0  Investigacion 33.txt  [scientific, field, interest, environment, pgr...  \n",
       "1  Investigacion 27.txt  [agriculture, biology, environment, marine, li...  \n",
       "2  Investigacion 26.txt  [centrifuge, spectrophotometer, chromatography...  \n",
       "3  Investigacion 32.txt  [scientific, field, interest, agriculture, bio...  \n",
       "4  investigacion 18.txt  [several, adoption, model, developed, explain,...  "
      ]
     },
     "execution_count": 8,
     "metadata": {},
     "output_type": "execute_result"
    }
   ],
   "source": [
    "data.head()"
   ]
  },
  {
   "cell_type": "code",
   "execution_count": 16,
   "metadata": {},
   "outputs": [
    {
     "name": "stdout",
     "output_type": "stream",
     "text": [
      "Antes de filtrar\n",
      "Dictionary<6167 unique tokens: ['acre', 'activity', 'agri', 'available', 'back']...>\n",
      "Despues de filtrar\n",
      "Dictionary<1120 unique tokens: ['available', 'back', 'bank', 'biodiversity', 'centre']...>\n"
     ]
    }
   ],
   "source": [
    "dictionary = gensim.corpora.Dictionary(data['clean_text'])\n",
    "print('Antes de filtrar')\n",
    "print(dictionary)\n",
    "dictionary.filter_extremes(no_below=5,no_above=0.8)\n",
    "print('Despues de filtrar')\n",
    "print(dictionary)\n"
   ]
  },
  {
   "cell_type": "code",
   "execution_count": 17,
   "metadata": {},
   "outputs": [],
   "source": [
    "corpus = [dictionary.doc2bow(text) for text in data['clean_text']]"
   ]
  },
  {
   "cell_type": "code",
   "execution_count": 26,
   "metadata": {},
   "outputs": [],
   "source": [
    "lda_model = gensim.models.LdaMulticore(corpus=corpus,\n",
    "                                        id2word=dictionary,\n",
    "                                        num_topics=2, \n",
    "                                        random_state=100,\n",
    "                                        chunksize=100,\n",
    "                                        passes=10,\n",
    "                                        alpha=0.1,\n",
    "                                        eta=0.2)"
   ]
  },
  {
   "cell_type": "code",
   "execution_count": 28,
   "metadata": {},
   "outputs": [
    {
     "name": "stdout",
     "output_type": "stream",
     "text": [
      "(0, '0.008*\"climate\" + 0.008*\"project\" + 0.007*\"model\" + 0.007*\"program\" + 0.006*\"change\"')\n",
      "(1, '0.013*\"plant\" + 0.012*\"technology\" + 0.012*\"farmer\" + 0.010*\"food\" + 0.008*\"production\"')\n"
     ]
    }
   ],
   "source": [
    "topicos = lda_model.print_topics(num_words=5, num_topics=2)\n",
    "for topico in topicos:\n",
    "    print(topico)"
   ]
  },
  {
   "cell_type": "code",
   "execution_count": 29,
   "metadata": {},
   "outputs": [],
   "source": [
    "my_dict = {'Topic_' + str(i): [token for token, score in lda_model.show_topic(i, topn=100)] for i in range(0, lda_model.num_topics)}\n"
   ]
  },
  {
   "cell_type": "code",
   "execution_count": 32,
   "metadata": {},
   "outputs": [
    {
     "data": {
      "text/html": [
       "<div>\n",
       "<style scoped>\n",
       "    .dataframe tbody tr th:only-of-type {\n",
       "        vertical-align: middle;\n",
       "    }\n",
       "\n",
       "    .dataframe tbody tr th {\n",
       "        vertical-align: top;\n",
       "    }\n",
       "\n",
       "    .dataframe thead th {\n",
       "        text-align: right;\n",
       "    }\n",
       "</style>\n",
       "<table border=\"1\" class=\"dataframe\">\n",
       "  <thead>\n",
       "    <tr style=\"text-align: right;\">\n",
       "      <th></th>\n",
       "      <th>Topic_0</th>\n",
       "      <th>Topic_1</th>\n",
       "    </tr>\n",
       "  </thead>\n",
       "  <tbody>\n",
       "    <tr>\n",
       "      <th>0</th>\n",
       "      <td>climate</td>\n",
       "      <td>plant</td>\n",
       "    </tr>\n",
       "    <tr>\n",
       "      <th>1</th>\n",
       "      <td>project</td>\n",
       "      <td>technology</td>\n",
       "    </tr>\n",
       "    <tr>\n",
       "      <th>2</th>\n",
       "      <td>model</td>\n",
       "      <td>farmer</td>\n",
       "    </tr>\n",
       "    <tr>\n",
       "      <th>3</th>\n",
       "      <td>program</td>\n",
       "      <td>food</td>\n",
       "    </tr>\n",
       "    <tr>\n",
       "      <th>4</th>\n",
       "      <td>change</td>\n",
       "      <td>production</td>\n",
       "    </tr>\n",
       "  </tbody>\n",
       "</table>\n",
       "</div>"
      ],
      "text/plain": [
       "   Topic_0     Topic_1\n",
       "0  climate       plant\n",
       "1  project  technology\n",
       "2    model      farmer\n",
       "3  program        food\n",
       "4   change  production"
      ]
     },
     "execution_count": 32,
     "metadata": {},
     "output_type": "execute_result"
    }
   ],
   "source": [
    "topics = pd.DataFrame.from_dict(my_dict)\n",
    "topics.head()"
   ]
  },
  {
   "cell_type": "code",
   "execution_count": 36,
   "metadata": {},
   "outputs": [],
   "source": [
    "topics.to_csv('topicosprueba.csv',index=False)"
   ]
  },
  {
   "cell_type": "code",
   "execution_count": 37,
   "metadata": {},
   "outputs": [
    {
     "data": {
      "text/html": [
       "<div>\n",
       "<style scoped>\n",
       "    .dataframe tbody tr th:only-of-type {\n",
       "        vertical-align: middle;\n",
       "    }\n",
       "\n",
       "    .dataframe tbody tr th {\n",
       "        vertical-align: top;\n",
       "    }\n",
       "\n",
       "    .dataframe thead th {\n",
       "        text-align: right;\n",
       "    }\n",
       "</style>\n",
       "<table border=\"1\" class=\"dataframe\">\n",
       "  <thead>\n",
       "    <tr style=\"text-align: right;\">\n",
       "      <th></th>\n",
       "      <th>Topic_0</th>\n",
       "      <th>Topic_1</th>\n",
       "    </tr>\n",
       "  </thead>\n",
       "  <tbody>\n",
       "    <tr>\n",
       "      <th>0</th>\n",
       "      <td>climate</td>\n",
       "      <td>plant</td>\n",
       "    </tr>\n",
       "    <tr>\n",
       "      <th>1</th>\n",
       "      <td>project</td>\n",
       "      <td>technology</td>\n",
       "    </tr>\n",
       "    <tr>\n",
       "      <th>2</th>\n",
       "      <td>model</td>\n",
       "      <td>farmer</td>\n",
       "    </tr>\n",
       "    <tr>\n",
       "      <th>3</th>\n",
       "      <td>program</td>\n",
       "      <td>food</td>\n",
       "    </tr>\n",
       "    <tr>\n",
       "      <th>4</th>\n",
       "      <td>change</td>\n",
       "      <td>production</td>\n",
       "    </tr>\n",
       "    <tr>\n",
       "      <th>...</th>\n",
       "      <td>...</td>\n",
       "      <td>...</td>\n",
       "    </tr>\n",
       "    <tr>\n",
       "      <th>95</th>\n",
       "      <td>significant</td>\n",
       "      <td>computer</td>\n",
       "    </tr>\n",
       "    <tr>\n",
       "      <th>96</th>\n",
       "      <td>asia</td>\n",
       "      <td>specie</td>\n",
       "    </tr>\n",
       "    <tr>\n",
       "      <th>97</th>\n",
       "      <td>big</td>\n",
       "      <td>environmental</td>\n",
       "    </tr>\n",
       "    <tr>\n",
       "      <th>98</th>\n",
       "      <td>review</td>\n",
       "      <td>animal</td>\n",
       "    </tr>\n",
       "    <tr>\n",
       "      <th>99</th>\n",
       "      <td>breeding</td>\n",
       "      <td>approach</td>\n",
       "    </tr>\n",
       "  </tbody>\n",
       "</table>\n",
       "<p>100 rows × 2 columns</p>\n",
       "</div>"
      ],
      "text/plain": [
       "        Topic_0        Topic_1\n",
       "0       climate          plant\n",
       "1       project     technology\n",
       "2         model         farmer\n",
       "3       program           food\n",
       "4        change     production\n",
       "..          ...            ...\n",
       "95  significant       computer\n",
       "96         asia         specie\n",
       "97          big  environmental\n",
       "98       review         animal\n",
       "99     breeding       approach\n",
       "\n",
       "[100 rows x 2 columns]"
      ]
     },
     "execution_count": 37,
     "metadata": {},
     "output_type": "execute_result"
    }
   ],
   "source": [
    "pd.read_csv('topicosprueba.csv')"
   ]
  },
  {
   "cell_type": "code",
   "execution_count": 40,
   "metadata": {},
   "outputs": [],
   "source": [
    "wordstopic = pd.read_csv(\"./out/\" + company +\"/\" + 'wordsxtopic.csv')"
   ]
  },
  {
   "cell_type": "code",
   "execution_count": 41,
   "metadata": {},
   "outputs": [
    {
     "data": {
      "text/html": [
       "<div>\n",
       "<style scoped>\n",
       "    .dataframe tbody tr th:only-of-type {\n",
       "        vertical-align: middle;\n",
       "    }\n",
       "\n",
       "    .dataframe tbody tr th {\n",
       "        vertical-align: top;\n",
       "    }\n",
       "\n",
       "    .dataframe thead th {\n",
       "        text-align: right;\n",
       "    }\n",
       "</style>\n",
       "<table border=\"1\" class=\"dataframe\">\n",
       "  <thead>\n",
       "    <tr style=\"text-align: right;\">\n",
       "      <th></th>\n",
       "      <th>Topic_0</th>\n",
       "      <th>Topic_1</th>\n",
       "    </tr>\n",
       "  </thead>\n",
       "  <tbody>\n",
       "    <tr>\n",
       "      <th>0</th>\n",
       "      <td>climate</td>\n",
       "      <td>plant</td>\n",
       "    </tr>\n",
       "    <tr>\n",
       "      <th>1</th>\n",
       "      <td>project</td>\n",
       "      <td>technology</td>\n",
       "    </tr>\n",
       "    <tr>\n",
       "      <th>2</th>\n",
       "      <td>model</td>\n",
       "      <td>farmer</td>\n",
       "    </tr>\n",
       "    <tr>\n",
       "      <th>3</th>\n",
       "      <td>program</td>\n",
       "      <td>food</td>\n",
       "    </tr>\n",
       "    <tr>\n",
       "      <th>4</th>\n",
       "      <td>change</td>\n",
       "      <td>production</td>\n",
       "    </tr>\n",
       "  </tbody>\n",
       "</table>\n",
       "</div>"
      ],
      "text/plain": [
       "   Topic_0     Topic_1\n",
       "0  climate       plant\n",
       "1  project  technology\n",
       "2    model      farmer\n",
       "3  program        food\n",
       "4   change  production"
      ]
     },
     "execution_count": 41,
     "metadata": {},
     "output_type": "execute_result"
    }
   ],
   "source": [
    "wordstopic.head()\n"
   ]
  },
  {
   "cell_type": "markdown",
   "metadata": {},
   "source": [
    "### procesamndo tesauros"
   ]
  },
  {
   "cell_type": "code",
   "execution_count": 43,
   "metadata": {},
   "outputs": [],
   "source": [
    "tesauros = pd.read_excel('./in/plantilla_tesauros.xlsx')"
   ]
  },
  {
   "cell_type": "code",
   "execution_count": 51,
   "metadata": {},
   "outputs": [
    {
     "data": {
      "text/html": [
       "<div>\n",
       "<style scoped>\n",
       "    .dataframe tbody tr th:only-of-type {\n",
       "        vertical-align: middle;\n",
       "    }\n",
       "\n",
       "    .dataframe tbody tr th {\n",
       "        vertical-align: top;\n",
       "    }\n",
       "\n",
       "    .dataframe thead th {\n",
       "        text-align: right;\n",
       "    }\n",
       "</style>\n",
       "<table border=\"1\" class=\"dataframe\">\n",
       "  <thead>\n",
       "    <tr style=\"text-align: right;\">\n",
       "      <th></th>\n",
       "      <th>Nom_Tesauro</th>\n",
       "      <th>Palabras</th>\n",
       "    </tr>\n",
       "  </thead>\n",
       "  <tbody>\n",
       "    <tr>\n",
       "      <th>0</th>\n",
       "      <td>Cap_Difu</td>\n",
       "      <td>owl_Thing</td>\n",
       "    </tr>\n",
       "    <tr>\n",
       "      <th>1</th>\n",
       "      <td>Cap_Difu</td>\n",
       "      <td>Brochure</td>\n",
       "    </tr>\n",
       "    <tr>\n",
       "      <th>2</th>\n",
       "      <td>Cap_Difu</td>\n",
       "      <td>Certification</td>\n",
       "    </tr>\n",
       "    <tr>\n",
       "      <th>3</th>\n",
       "      <td>Cap_Difu</td>\n",
       "      <td>Implementation</td>\n",
       "    </tr>\n",
       "    <tr>\n",
       "      <th>4</th>\n",
       "      <td>Cap_Difu</td>\n",
       "      <td>Incubator</td>\n",
       "    </tr>\n",
       "    <tr>\n",
       "      <th>...</th>\n",
       "      <td>...</td>\n",
       "      <td>...</td>\n",
       "    </tr>\n",
       "    <tr>\n",
       "      <th>475</th>\n",
       "      <td>Cap_I</td>\n",
       "      <td>university_research</td>\n",
       "    </tr>\n",
       "    <tr>\n",
       "      <th>476</th>\n",
       "      <td>Cap_I</td>\n",
       "      <td>vaccine_development</td>\n",
       "    </tr>\n",
       "    <tr>\n",
       "      <th>477</th>\n",
       "      <td>Cap_I</td>\n",
       "      <td>volume_determination</td>\n",
       "    </tr>\n",
       "    <tr>\n",
       "      <th>478</th>\n",
       "      <td>Cap_I</td>\n",
       "      <td>Weight_determination</td>\n",
       "    </tr>\n",
       "    <tr>\n",
       "      <th>479</th>\n",
       "      <td>Cap_I</td>\n",
       "      <td>Wind_Tunnels</td>\n",
       "    </tr>\n",
       "  </tbody>\n",
       "</table>\n",
       "<p>480 rows × 2 columns</p>\n",
       "</div>"
      ],
      "text/plain": [
       "    Nom_Tesauro              Palabras\n",
       "0      Cap_Difu             owl_Thing\n",
       "1      Cap_Difu              Brochure\n",
       "2      Cap_Difu         Certification\n",
       "3      Cap_Difu        Implementation\n",
       "4      Cap_Difu             Incubator\n",
       "..          ...                   ...\n",
       "475       Cap_I   university_research\n",
       "476       Cap_I   vaccine_development\n",
       "477       Cap_I  volume_determination\n",
       "478       Cap_I  Weight_determination\n",
       "479       Cap_I          Wind_Tunnels\n",
       "\n",
       "[480 rows x 2 columns]"
      ]
     },
     "execution_count": 51,
     "metadata": {},
     "output_type": "execute_result"
    }
   ],
   "source": [
    "tesauros"
   ]
  },
  {
   "cell_type": "code",
   "execution_count": 66,
   "metadata": {},
   "outputs": [
    {
     "data": {
      "text/plain": [
       "['Cap_Difu', 'Cap_Inves', 'Cap_I']"
      ]
     },
     "execution_count": 66,
     "metadata": {},
     "output_type": "execute_result"
    }
   ],
   "source": [
    "capacidades = tesauros['Nom_Tesauro'].unique().tolist()\n",
    "capacidades"
   ]
  },
  {
   "cell_type": "code",
   "execution_count": 74,
   "metadata": {},
   "outputs": [],
   "source": [
    "def split_tesauros(tesauros):\n",
    "    xss =[x.split('_') for x in tesauros['Palabras']]\n",
    "    flat_list = [x for xs in xss for x in xs] \n",
    "    tesauro = pd.DataFrame(flat_list,columns = [\"Palabras\"])\n",
    "    tesauro['Palabras'] = tesauro['Palabras'].drop_duplicates()\n",
    "    tesauro = tesauro[tesauro['Palabras'].notna()]\n",
    "    return(tesauro)"
   ]
  },
  {
   "cell_type": "code",
   "execution_count": 75,
   "metadata": {},
   "outputs": [],
   "source": [
    "def clean_tesauros(tesauros):\n",
    "    list_cap = []\n",
    "    for cap in capacidades:\n",
    "        tesauro_cap = tesauros[tesauros['Nom_Tesauro']==cap]\n",
    "        tesauro_cap = split_tesauros(tesauro_cap)\n",
    "        tesauro_cap['Nom_tesauro'] = cap\n",
    "        list_cap.append(tesauro_cap)\n",
    "    return(pd.concat(list_cap))"
   ]
  },
  {
   "cell_type": "code",
   "execution_count": 78,
   "metadata": {},
   "outputs": [],
   "source": [
    "tesauros = clean_tesauros(tesauros)"
   ]
  },
  {
   "cell_type": "code",
   "execution_count": 79,
   "metadata": {},
   "outputs": [],
   "source": [
    "def jaccard_similarity(query, document):\n",
    "    intersection = set(query).intersection(set(document))\n",
    "    union = set(query).union(set(document))\n",
    "    return len(intersection)/len(union)"
   ]
  },
  {
   "cell_type": "code",
   "execution_count": 89,
   "metadata": {},
   "outputs": [
    {
     "data": {
      "text/plain": [
       "0.018292682926829267"
      ]
     },
     "execution_count": 89,
     "metadata": {},
     "output_type": "execute_result"
    }
   ],
   "source": [
    "jaccard_similarity(topics['Topic_0'],tesauros[tesauros['Nom_tesauro']=='Cap_Difu']['Palabras'])"
   ]
  },
  {
   "cell_type": "code",
   "execution_count": 91,
   "metadata": {},
   "outputs": [
    {
     "data": {
      "text/plain": [
       "{'Cap_Difu': [0.018292682926829267, 0.024539877300613498]}"
      ]
     },
     "execution_count": 91,
     "metadata": {},
     "output_type": "execute_result"
    }
   ],
   "source": [
    "{'Cap_Difu':[jaccard_similarity(topics[topic],tesauros[tesauros['Nom_tesauro']=='Cap_Difu']['Palabras']) for topic in topics.columns]}"
   ]
  },
  {
   "cell_type": "code",
   "execution_count": 97,
   "metadata": {},
   "outputs": [],
   "source": [
    "dict_distancias = {}\n",
    "for cap in capacidades:\n",
    "\n",
    "    dict_distancias[cap]= [jaccard_similarity(topics[topic],tesauros[tesauros['Nom_tesauro']==cap]['Palabras']) for topic in topics.columns]"
   ]
  },
  {
   "cell_type": "code",
   "execution_count": 103,
   "metadata": {},
   "outputs": [],
   "source": [
    "distancias = pd.DataFrame.from_dict(dict_distancias,orient='index',columns= wordstopic.columns)"
   ]
  },
  {
   "cell_type": "code",
   "execution_count": 113,
   "metadata": {},
   "outputs": [],
   "source": [
    "distancias = distancias.reset_index()"
   ]
  },
  {
   "cell_type": "code",
   "execution_count": 114,
   "metadata": {},
   "outputs": [
    {
     "data": {
      "text/plain": [
       "Index(['index', 'Topic_0', 'Topic_1'], dtype='object')"
      ]
     },
     "execution_count": 114,
     "metadata": {},
     "output_type": "execute_result"
    }
   ],
   "source": [
    "distancias.columns"
   ]
  },
  {
   "cell_type": "code",
   "execution_count": 123,
   "metadata": {},
   "outputs": [
    {
     "data": {
      "text/html": [
       "<div>\n",
       "<style scoped>\n",
       "    .dataframe tbody tr th:only-of-type {\n",
       "        vertical-align: middle;\n",
       "    }\n",
       "\n",
       "    .dataframe tbody tr th {\n",
       "        vertical-align: top;\n",
       "    }\n",
       "\n",
       "    .dataframe thead th {\n",
       "        text-align: right;\n",
       "    }\n",
       "</style>\n",
       "<table border=\"1\" class=\"dataframe\">\n",
       "  <thead>\n",
       "    <tr style=\"text-align: right;\">\n",
       "      <th></th>\n",
       "      <th>index</th>\n",
       "      <th>Topic_0</th>\n",
       "      <th>Topic_1</th>\n",
       "    </tr>\n",
       "  </thead>\n",
       "  <tbody>\n",
       "    <tr>\n",
       "      <th>0</th>\n",
       "      <td>Cap_Difu</td>\n",
       "      <td>0.018293</td>\n",
       "      <td>0.024540</td>\n",
       "    </tr>\n",
       "    <tr>\n",
       "      <th>1</th>\n",
       "      <td>Cap_Inves</td>\n",
       "      <td>0.056213</td>\n",
       "      <td>0.072072</td>\n",
       "    </tr>\n",
       "    <tr>\n",
       "      <th>2</th>\n",
       "      <td>Cap_I</td>\n",
       "      <td>0.057057</td>\n",
       "      <td>0.066667</td>\n",
       "    </tr>\n",
       "  </tbody>\n",
       "</table>\n",
       "</div>"
      ],
      "text/plain": [
       "       index   Topic_0   Topic_1\n",
       "0   Cap_Difu  0.018293  0.024540\n",
       "1  Cap_Inves  0.056213  0.072072\n",
       "2      Cap_I  0.057057  0.066667"
      ]
     },
     "execution_count": 123,
     "metadata": {},
     "output_type": "execute_result"
    }
   ],
   "source": [
    "distancias"
   ]
  },
  {
   "cell_type": "code",
   "execution_count": 116,
   "metadata": {},
   "outputs": [],
   "source": [
    "distancias2 =  pd.melt(distancias,id_vars= 'index' ,value_vars=wordstopic.columns.tolist(), var_name= 'topico', value_name= 'distancia')"
   ]
  },
  {
   "cell_type": "code",
   "execution_count": 119,
   "metadata": {},
   "outputs": [],
   "source": [
    "import seaborn as sns"
   ]
  },
  {
   "cell_type": "code",
   "execution_count": 120,
   "metadata": {},
   "outputs": [
    {
     "data": {
      "text/html": [
       "<div>\n",
       "<style scoped>\n",
       "    .dataframe tbody tr th:only-of-type {\n",
       "        vertical-align: middle;\n",
       "    }\n",
       "\n",
       "    .dataframe tbody tr th {\n",
       "        vertical-align: top;\n",
       "    }\n",
       "\n",
       "    .dataframe thead th {\n",
       "        text-align: right;\n",
       "    }\n",
       "</style>\n",
       "<table border=\"1\" class=\"dataframe\">\n",
       "  <thead>\n",
       "    <tr style=\"text-align: right;\">\n",
       "      <th></th>\n",
       "      <th>index</th>\n",
       "      <th>topico</th>\n",
       "      <th>distancia</th>\n",
       "    </tr>\n",
       "  </thead>\n",
       "  <tbody>\n",
       "    <tr>\n",
       "      <th>0</th>\n",
       "      <td>Cap_Difu</td>\n",
       "      <td>Topic_0</td>\n",
       "      <td>0.018293</td>\n",
       "    </tr>\n",
       "    <tr>\n",
       "      <th>1</th>\n",
       "      <td>Cap_Inves</td>\n",
       "      <td>Topic_0</td>\n",
       "      <td>0.056213</td>\n",
       "    </tr>\n",
       "    <tr>\n",
       "      <th>2</th>\n",
       "      <td>Cap_I</td>\n",
       "      <td>Topic_0</td>\n",
       "      <td>0.057057</td>\n",
       "    </tr>\n",
       "    <tr>\n",
       "      <th>3</th>\n",
       "      <td>Cap_Difu</td>\n",
       "      <td>Topic_1</td>\n",
       "      <td>0.024540</td>\n",
       "    </tr>\n",
       "    <tr>\n",
       "      <th>4</th>\n",
       "      <td>Cap_Inves</td>\n",
       "      <td>Topic_1</td>\n",
       "      <td>0.072072</td>\n",
       "    </tr>\n",
       "    <tr>\n",
       "      <th>5</th>\n",
       "      <td>Cap_I</td>\n",
       "      <td>Topic_1</td>\n",
       "      <td>0.066667</td>\n",
       "    </tr>\n",
       "  </tbody>\n",
       "</table>\n",
       "</div>"
      ],
      "text/plain": [
       "       index   topico  distancia\n",
       "0   Cap_Difu  Topic_0   0.018293\n",
       "1  Cap_Inves  Topic_0   0.056213\n",
       "2      Cap_I  Topic_0   0.057057\n",
       "3   Cap_Difu  Topic_1   0.024540\n",
       "4  Cap_Inves  Topic_1   0.072072\n",
       "5      Cap_I  Topic_1   0.066667"
      ]
     },
     "execution_count": 120,
     "metadata": {},
     "output_type": "execute_result"
    }
   ],
   "source": [
    "distancias2"
   ]
  },
  {
   "cell_type": "code",
   "execution_count": 125,
   "metadata": {},
   "outputs": [
    {
     "name": "stderr",
     "output_type": "stream",
     "text": [
      "/Users/user/opt/anaconda3/envs/nlp/lib/python3.10/site-packages/seaborn/categorical.py:381: DeprecationWarning: distutils Version classes are deprecated. Use packaging.version instead.\n",
      "  if LooseVersion(mpl.__version__) < \"3.0\":\n",
      "/Users/user/opt/anaconda3/envs/nlp/lib/python3.10/site-packages/setuptools/_distutils/version.py:351: DeprecationWarning: distutils Version classes are deprecated. Use packaging.version instead.\n",
      "  other = LooseVersion(other)\n"
     ]
    },
    {
     "data": {
      "text/plain": [
       "<AxesSubplot:xlabel='topico', ylabel='distancia'>"
      ]
     },
     "execution_count": 125,
     "metadata": {},
     "output_type": "execute_result"
    },
    {
     "data": {
      "image/png": "[encoded data removed]",
      "text/plain": [
       "<Figure size 432x288 with 1 Axes>"
      ]
     },
     "metadata": {
      "needs_background": "light"
     },
     "output_type": "display_data"
    }
   ],
   "source": [
    "sns.barplot(x = 'topico', y= 'distancia', hue = 'index', data = distancias2)"
   ]
  },
  {
   "cell_type": "code",
   "execution_count": null,
   "metadata": {},
   "outputs": [],
   "source": []
  }
 ],
 "metadata": {
  "kernelspec": {
   "display_name": "Python 3.10.4 ('nlp')",
   "language": "python",
   "name": "python3"
  },
  "language_info": {
   "codemirror_mode": {
    "name": "ipython",
    "version": 3
   },
   "file_extension": ".py",
   "mimetype": "text/x-python",
   "name": "python",
   "nbconvert_exporter": "python",
   "pygments_lexer": "ipython3",
   "version": "3.10.4"
  },
  "orig_nbformat": 4,
  "vscode": {
   "interpreter": {
    "hash": "0703a8d8cda6d9274ab02a535c6dff16bf21f5930fde1f50d6a9c6d1c761a73b"
   }
  }
 },
 "nbformat": 4,
 "nbformat_minor": 2
}
